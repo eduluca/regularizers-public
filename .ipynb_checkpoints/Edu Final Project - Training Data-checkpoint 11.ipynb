{
 "cells": [
  {
   "cell_type": "markdown",
   "id": "c5326b28",
   "metadata": {},
   "source": [
    "# Final Project - Training Data"
   ]
  },
  {
   "cell_type": "markdown",
   "id": "5ede9a19",
   "metadata": {},
   "source": [
    "This Notebook loads and displays some examples from the training dataset.\n",
    "\n",
    "The training dataset contains a total of 3717 samples. All groups have been given the same training dataset and the final report will be graded based on the performance on this training data.\n",
    "\n",
    "* You should expect the test dataset to have the same format as the training data: $270,000\\times M$ numpy array, where $M$ is the number of test samples.\n",
    "* This means that *any* pre-processing applied in the training data should also be applied in the test data."
   ]
  },
  {
   "cell_type": "code",
   "execution_count": 26,
   "id": "aa92726e",
   "metadata": {},
   "outputs": [],
   "source": [
    "import numpy as np\n",
    "import numpy.random as npr\n",
    "import matplotlib.pyplot as plt\n",
    "from PIL import Image\n",
    "%matplotlib inline\n",
    "plt.style.use('bmh')"
   ]
  },
  {
   "cell_type": "code",
   "execution_count": 27,
   "id": "81f31b29",
   "metadata": {},
   "outputs": [
    {
     "name": "stdout",
     "output_type": "stream",
     "text": [
      "(270000, 5933) (5933,)\n"
     ]
    }
   ],
   "source": [
    "# Loading Data\n",
    "data_train = np.load('data_train.npy')\n",
    "labels_train = np.load('labels_train.npy')\n",
    "\n",
    "print(data_train.shape, labels_train.shape)"
   ]
  },
  {
   "cell_type": "code",
   "execution_count": 10,
   "id": "37938ca2",
   "metadata": {},
   "outputs": [],
   "source": [
    "# Labels Integer Encoding\n",
    "\n",
    "labels_names = ['Nike',\n",
    "                'Adidas',\n",
    "                'Ford',\n",
    "                'Honda',\n",
    "                'General Mills',\n",
    "                'Unilever',\n",
    "                \"McDonald's\",\n",
    "                'KFC',\n",
    "                'Gators',\n",
    "                '3M']\n",
    "\n",
    "labels_names = ['Nike',\n",
    "                'Adidas',\n",
    "                'Ford',\n",
    "                'Honda',\n",
    "                'General_mills',\n",
    "                'Unilever',\n",
    "                \"Mcdonalds\",\n",
    "                'KFC',\n",
    "                'Gators',\n",
    "                '3M']"
   ]
  },
  {
   "cell_type": "code",
   "execution_count": null,
   "id": "c7c7f0ce",
   "metadata": {},
   "outputs": [],
   "source": [
    "#CODE TO CHECK MISLABELS\n",
    "\n",
    "num_rows = 5932  # Number of rows\n",
    "fig_height = num_rows * 5  # Adjust the figure height based on the number of rows\n",
    "\n",
    "fig, axes = plt.subplots(num_rows, 1, figsize=(15, fig_height))\n",
    "plt.subplots_adjust(left=None, bottom=None, right=None, top=None, wspace=None, hspace=0.5)  # Adjust spacing between subplots\n",
    "\n",
    "for label_idx in range(1):  # Loop through each label\n",
    "    label_samples = np.where(labels_train == label_idx)[0]\n",
    "    \n",
    "    for j in range(num_rows):  # Display images for each label in each row\n",
    "        sample_idx = label_samples[j]\n",
    "        ax = axes[j]\n",
    "        ax.imshow(data_train[:, sample_idx].reshape((300, 300, 3)))\n",
    "        ax.axis('off')\n",
    "        ax.set_title('Index ' + str(sample_idx) + ': Label ' + str(label_idx) + ': ' + labels_names[label_idx], size=10)\n",
    "\n",
    "plt.show()"
   ]
  },
  {
   "cell_type": "code",
   "execution_count": 3,
   "id": "1637a2b5",
   "metadata": {},
   "outputs": [
    {
     "data": {
      "text/plain": [
       "'\\ncorrected_labels_train = labels_train.copy()\\n\\n\\nchanges = {\\n    0: [2400, 361, 2439, 1865, 2671, 893, 3625],\\n    1: [1288, 3033, 3037, 3599, 780, 3140, 3372],\\n    2: [1670, 673, 1995, 2804, 2769, 2714, 653],\\n    3: [2980, 2937, 603, 1819, 3704, 2025],\\n    4: [2665, 1649, 1777, 1563, 2986],\\n    5: [1587, 2750, 2763, 1917],\\n    6: [2015, 2388, 38, 401, 2818, 1875, 3675],\\n    7: [3154, 744, 452, 3283, 3412, 313],\\n    8: [556, 1213, 3253],\\n    9: [2940, 1314, 1108, 708, 3277, 728],\\n}\\n\\n\\nfor new_label, indices_to_change in changes.items():\\n    for index in indices_to_change:\\n        corrected_labels_train[index] = new_label\\n        \\nlabels_train = corrected_labels_train\\n'"
      ]
     },
     "execution_count": 3,
     "metadata": {},
     "output_type": "execute_result"
    }
   ],
   "source": [
    "'''\n",
    "corrected_labels_train = labels_train.copy()\n",
    "\n",
    "\n",
    "changes = {\n",
    "    0: [2400, 361, 2439, 1865, 2671, 893, 3625],\n",
    "    1: [1288, 3033, 3037, 3599, 780, 3140, 3372],\n",
    "    2: [1670, 673, 1995, 2804, 2769, 2714, 653],\n",
    "    3: [2980, 2937, 603, 1819, 3704, 2025],\n",
    "    4: [2665, 1649, 1777, 1563, 2986],\n",
    "    5: [1587, 2750, 2763, 1917],\n",
    "    6: [2015, 2388, 38, 401, 2818, 1875, 3675],\n",
    "    7: [3154, 744, 452, 3283, 3412, 313],\n",
    "    8: [556, 1213, 3253],\n",
    "    9: [2940, 1314, 1108, 708, 3277, 728],\n",
    "}\n",
    "\n",
    "\n",
    "for new_label, indices_to_change in changes.items():\n",
    "    for index in indices_to_change:\n",
    "        corrected_labels_train[index] = new_label\n",
    "        \n",
    "labels_train = corrected_labels_train\n",
    "'''"
   ]
  },
  {
   "cell_type": "code",
   "execution_count": 4,
   "id": "69036480",
   "metadata": {},
   "outputs": [
    {
     "data": {
      "image/png": "[encoded data removed]",
      "text/plain": [
       "<Figure size 640x480 with 1 Axes>"
      ]
     },
     "metadata": {},
     "output_type": "display_data"
    }
   ],
   "source": [
    "# Counting number samples per class\n",
    "vals, counts = np.unique(labels_train, return_counts=True)\n",
    "\n",
    "plt.bar(vals, counts)\n",
    "plt.xticks(range(10),range(10))\n",
    "plt.xlabel('Classes',size=20)\n",
    "plt.ylabel('# Samples per Class', size=20)\n",
    "plt.title('Training Data (Total = '+str(data_train.shape[1])+' samples)',size=15);"
   ]
  },
  {
   "cell_type": "code",
   "execution_count": 5,
   "id": "7c248b95",
   "metadata": {},
   "outputs": [],
   "source": []
  },
  {
   "cell_type": "code",
   "execution_count": 10,
   "id": "6781bc23",
   "metadata": {},
   "outputs": [
    {
     "ename": "ImportError",
     "evalue": "dlopen(/Users/SuperPawn/opt/anaconda3/envs/fml/lib/python3.8/site-packages/cv2/python-3.8/cv2.cpython-38-darwin.so, 2): Library not loaded: @rpath/libgstreamer-1.0.0.dylib\n  Referenced from: /Users/SuperPawn/opt/anaconda3/envs/fml/lib/libopencv_gapi.4.6.0.dylib\n  Reason: Incompatible library version: libopencv_gapi.406.dylib requires version 1401.0.0 or later, but libgstreamer-1.0.0.dylib provides version 0.0.0",
     "output_type": "error",
     "traceback": [
      "\u001b[0;31m---------------------------------------------------------------------------\u001b[0m",
      "\u001b[0;31mImportError\u001b[0m                               Traceback (most recent call last)",
      "Cell \u001b[0;32mIn[10], line 11\u001b[0m\n\u001b[1;32m      9\u001b[0m \u001b[38;5;66;03m# from skimage.transform import resize\u001b[39;00m\n\u001b[1;32m     10\u001b[0m \u001b[38;5;28;01mfrom\u001b[39;00m \u001b[38;5;21;01msklearn\u001b[39;00m\u001b[38;5;21;01m.\u001b[39;00m\u001b[38;5;21;01msvm\u001b[39;00m \u001b[38;5;28;01mimport\u001b[39;00m SVC\n\u001b[0;32m---> 11\u001b[0m \u001b[38;5;28;01mimport\u001b[39;00m \u001b[38;5;21;01mcv2\u001b[39;00m\n",
      "File \u001b[0;32m~/opt/anaconda3/envs/fml/lib/python3.8/site-packages/cv2/__init__.py:181\u001b[0m\n\u001b[1;32m    176\u001b[0m             \u001b[38;5;28;01mif\u001b[39;00m DEBUG: \u001b[38;5;28mprint\u001b[39m(\u001b[38;5;124m\"\u001b[39m\u001b[38;5;124mExtra Python code for\u001b[39m\u001b[38;5;124m\"\u001b[39m, submodule, \u001b[38;5;124m\"\u001b[39m\u001b[38;5;124mis loaded\u001b[39m\u001b[38;5;124m\"\u001b[39m)\n\u001b[1;32m    178\u001b[0m     \u001b[38;5;28;01mif\u001b[39;00m DEBUG: \u001b[38;5;28mprint\u001b[39m(\u001b[38;5;124m'\u001b[39m\u001b[38;5;124mOpenCV loader: DONE\u001b[39m\u001b[38;5;124m'\u001b[39m)\n\u001b[0;32m--> 181\u001b[0m \u001b[43mbootstrap\u001b[49m\u001b[43m(\u001b[49m\u001b[43m)\u001b[49m\n",
      "File \u001b[0;32m~/opt/anaconda3/envs/fml/lib/python3.8/site-packages/cv2/__init__.py:153\u001b[0m, in \u001b[0;36mbootstrap\u001b[0;34m()\u001b[0m\n\u001b[1;32m    149\u001b[0m \u001b[38;5;28;01mif\u001b[39;00m DEBUG: \u001b[38;5;28mprint\u001b[39m(\u001b[38;5;124m\"\u001b[39m\u001b[38;5;124mRelink everything from native cv2 module to cv2 package\u001b[39m\u001b[38;5;124m\"\u001b[39m)\n\u001b[1;32m    151\u001b[0m py_module \u001b[38;5;241m=\u001b[39m sys\u001b[38;5;241m.\u001b[39mmodules\u001b[38;5;241m.\u001b[39mpop(\u001b[38;5;124m\"\u001b[39m\u001b[38;5;124mcv2\u001b[39m\u001b[38;5;124m\"\u001b[39m)\n\u001b[0;32m--> 153\u001b[0m native_module \u001b[38;5;241m=\u001b[39m \u001b[43mimportlib\u001b[49m\u001b[38;5;241;43m.\u001b[39;49m\u001b[43mimport_module\u001b[49m\u001b[43m(\u001b[49m\u001b[38;5;124;43m\"\u001b[39;49m\u001b[38;5;124;43mcv2\u001b[39;49m\u001b[38;5;124;43m\"\u001b[39;49m\u001b[43m)\u001b[49m\n\u001b[1;32m    155\u001b[0m sys\u001b[38;5;241m.\u001b[39mmodules[\u001b[38;5;124m\"\u001b[39m\u001b[38;5;124mcv2\u001b[39m\u001b[38;5;124m\"\u001b[39m] \u001b[38;5;241m=\u001b[39m py_module\n\u001b[1;32m    156\u001b[0m \u001b[38;5;28msetattr\u001b[39m(py_module, \u001b[38;5;124m\"\u001b[39m\u001b[38;5;124m_native\u001b[39m\u001b[38;5;124m\"\u001b[39m, native_module)\n",
      "File \u001b[0;32m~/opt/anaconda3/envs/fml/lib/python3.8/importlib/__init__.py:127\u001b[0m, in \u001b[0;36mimport_module\u001b[0;34m(name, package)\u001b[0m\n\u001b[1;32m    125\u001b[0m             \u001b[38;5;28;01mbreak\u001b[39;00m\n\u001b[1;32m    126\u001b[0m         level \u001b[38;5;241m+\u001b[39m\u001b[38;5;241m=\u001b[39m \u001b[38;5;241m1\u001b[39m\n\u001b[0;32m--> 127\u001b[0m \u001b[38;5;28;01mreturn\u001b[39;00m \u001b[43m_bootstrap\u001b[49m\u001b[38;5;241;43m.\u001b[39;49m\u001b[43m_gcd_import\u001b[49m\u001b[43m(\u001b[49m\u001b[43mname\u001b[49m\u001b[43m[\u001b[49m\u001b[43mlevel\u001b[49m\u001b[43m:\u001b[49m\u001b[43m]\u001b[49m\u001b[43m,\u001b[49m\u001b[43m \u001b[49m\u001b[43mpackage\u001b[49m\u001b[43m,\u001b[49m\u001b[43m \u001b[49m\u001b[43mlevel\u001b[49m\u001b[43m)\u001b[49m\n",
      "\u001b[0;31mImportError\u001b[0m: dlopen(/Users/SuperPawn/opt/anaconda3/envs/fml/lib/python3.8/site-packages/cv2/python-3.8/cv2.cpython-38-darwin.so, 2): Library not loaded: @rpath/libgstreamer-1.0.0.dylib\n  Referenced from: /Users/SuperPawn/opt/anaconda3/envs/fml/lib/libopencv_gapi.4.6.0.dylib\n  Reason: Incompatible library version: libopencv_gapi.406.dylib requires version 1401.0.0 or later, but libgstreamer-1.0.0.dylib provides version 0.0.0"
     ]
    }
   ],
   "source": [
    "from sklearn.decomposition import PCA\n",
    "from sklearn.discriminant_analysis import LinearDiscriminantAnalysis as LDA\n",
    "from sklearn.feature_selection import RFE\n",
    "from sklearn.linear_model import LogisticRegression\n",
    "from sklearn.metrics import f1_score, accuracy_score, confusion_matrix\n",
    "from sklearn.pipeline import Pipeline\n",
    "from sklearn.model_selection import train_test_split, GridSearchCV\n",
    "from sklearn.preprocessing import StandardScaler, MinMaxScaler\n",
    "# from skimage.transform import resize\n",
    "from sklearn.svm import SVC\n",
    "import cv2"
   ]
  },
  {
   "cell_type": "code",
   "execution_count": 11,
   "id": "117b2621",
   "metadata": {},
   "outputs": [
    {
     "ename": "NameError",
     "evalue": "name 'cv2' is not defined",
     "output_type": "error",
     "traceback": [
      "\u001b[0;31m---------------------------------------------------------------------------\u001b[0m",
      "\u001b[0;31mNameError\u001b[0m                                 Traceback (most recent call last)",
      "Cell \u001b[0;32mIn[11], line 5\u001b[0m\n\u001b[1;32m      3\u001b[0m \u001b[38;5;28;01mfor\u001b[39;00m i \u001b[38;5;129;01min\u001b[39;00m \u001b[38;5;28mrange\u001b[39m(\u001b[38;5;28mlen\u001b[39m(data_train\u001b[38;5;241m.\u001b[39mT)):\n\u001b[1;32m      4\u001b[0m     image \u001b[38;5;241m=\u001b[39m data_train[:,i]\u001b[38;5;241m.\u001b[39mreshape((\u001b[38;5;241m300\u001b[39m,\u001b[38;5;241m300\u001b[39m,\u001b[38;5;241m3\u001b[39m))\n\u001b[0;32m----> 5\u001b[0m     image_resized\u001b[38;5;241m.\u001b[39mappend(\u001b[43mcv2\u001b[49m\u001b[38;5;241m.\u001b[39mresize(image, dim, interpolation \u001b[38;5;241m=\u001b[39m cv2\u001b[38;5;241m.\u001b[39mINTER_AREA))\n\u001b[1;32m      7\u001b[0m image_resized \u001b[38;5;241m=\u001b[39m np\u001b[38;5;241m.\u001b[39marray(image_resized)\n",
      "\u001b[0;31mNameError\u001b[0m: name 'cv2' is not defined"
     ]
    }
   ],
   "source": [
    "image_resized = []\n",
    "dim = (64, 64)\n",
    "for i in range(len(data_train.T)):\n",
    "    image = data_train[:,i].reshape((300,300,3))\n",
    "    image_resized.append(cv2.resize(image, dim, interpolation = cv2.INTER_AREA))\n",
    "    \n",
    "image_resized = np.array(image_resized)"
   ]
  },
  {
   "cell_type": "code",
   "execution_count": 49,
   "id": "53a88846",
   "metadata": {},
   "outputs": [
    {
     "name": "stdout",
     "output_type": "stream",
     "text": [
      "(2973, 64, 64, 3)\n",
      "(2973,)\n",
      "(744, 64, 64, 3)\n",
      "(744,)\n"
     ]
    }
   ],
   "source": [
    "X_train, X_test, t_train, t_test = train_test_split(image_resized, labels_train, \n",
    "                                                   test_size=0.2,\n",
    "                                                   stratify=labels_train,\n",
    "                                                   random_state=0)\n",
    "print(X_train.shape)\n",
    "print(t_train.shape)\n",
    "print(X_test.shape)\n",
    "print(t_test.shape)"
   ]
  },
  {
   "cell_type": "code",
   "execution_count": 50,
   "id": "9a008dd9",
   "metadata": {},
   "outputs": [
    {
     "data": {
      "text/plain": [
       "<matplotlib.image.AxesImage at 0x2b986855aad0>"
      ]
     },
     "execution_count": 50,
     "metadata": {},
     "output_type": "execute_result"
    },
    {
     "data": {
      "image/png": "[encoded data removed]",
      "text/plain": [
       "<Figure size 640x480 with 1 Axes>"
      ]
     },
     "metadata": {},
     "output_type": "display_data"
    }
   ],
   "source": [
    "plt.imshow(X_train[11])\n",
    "\n"
   ]
  },
  {
   "cell_type": "code",
   "execution_count": 60,
   "id": "e5fa48c7",
   "metadata": {},
   "outputs": [
    {
     "name": "stdout",
     "output_type": "stream",
     "text": [
      "(2973, 12288)\n",
      "(744, 12288)\n"
     ]
    }
   ],
   "source": [
    "X_train = np.array([X_train[i].flatten() for i in range (len(X_train))])\n",
    "X_test = np.array([X_test[i].flatten() for i in range (len(X_test))])\n",
    "\n",
    "print(X_train.shape)\n",
    "print(X_test.shape)"
   ]
  },
  {
   "cell_type": "markdown",
   "id": "c41d0c81",
   "metadata": {},
   "source": [
    "### Model 1"
   ]
  },
  {
   "cell_type": "code",
   "execution_count": null,
   "id": "48c84f1d",
   "metadata": {},
   "outputs": [],
   "source": [
    "N, D = np.shape(X_train)\n",
    "pca = PCA(n_components=min(N,D))\n",
    "pca.fit(X_train)\n",
    "\n",
    "plt.step(range(1,min(N,D)+1),np.cumsum(pca.explained_variance_ratio_)*100)\n",
    "\n",
    "print(np.where(np.cumsum(pca.explained_variance_ratio_)>=0.9))\n",
    "print(np.cumsum(pca.explained_variance_ratio_)[20])\n",
    "plt.xlabel('Number of principal components');\n",
    "plt.ylabel('% Variance explained');"
   ]
  },
  {
   "cell_type": "code",
   "execution_count": null,
   "id": "1886f287",
   "metadata": {},
   "outputs": [],
   "source": [
    "model1 = Pipeline([('scaler', StandardScaler()),\n",
    "                 ('pca', PCA(n_components=500)),\n",
    "                 ('lr', LogisticRegression(random_state=0, tol=0.01))]) "
   ]
  },
  {
   "cell_type": "code",
   "execution_count": null,
   "id": "08d6a332",
   "metadata": {},
   "outputs": [],
   "source": [
    "model1.fit(X_train, t_train)"
   ]
  },
  {
   "cell_type": "code",
   "execution_count": null,
   "id": "4816a75c",
   "metadata": {},
   "outputs": [],
   "source": [
    "Y_test = model1.predict(X_test)\n",
    "\n",
    "print('With PCA:')\n",
    "print('Test Accuracy Score = ',accuracy_score(t_test, Y_test))\n",
    "print('Confusion matrix:')\n",
    "print(confusion_matrix(t_test, Y_test))\n"
   ]
  },
  {
   "cell_type": "markdown",
   "id": "64de9fbc",
   "metadata": {},
   "source": [
    "### Model 2"
   ]
  },
  {
   "cell_type": "code",
   "execution_count": 96,
   "id": "5bfb1c4f",
   "metadata": {},
   "outputs": [],
   "source": [
    "model2 = Pipeline([('scaling', MinMaxScaler()),\n",
    "                 ('pca', PCA(n_components=1000)),\n",
    "                 ('svc_r' , SVC(kernel='rbf'))])"
   ]
  },
  {
   "cell_type": "code",
   "execution_count": 97,
   "id": "207afe11",
   "metadata": {},
   "outputs": [
    {
     "name": "stdout",
     "output_type": "stream",
     "text": [
      "Fitting 4 folds for each of 36 candidates, totalling 144 fits\n",
      "SVM with RBF Hyperparameters:\n",
      "\n",
      "{'svc_r__C': 3.981071705534969, 'svc_r__gamma': 0.001} \n",
      "\n"
     ]
    }
   ],
   "source": [
    "param2 = {\n",
    "    'svc_r__C': np.logspace(-3, 3, 6),\n",
    "    'svc_r__gamma': np.logspace(-3, 3, 6)\n",
    "}\n",
    "\n",
    "cval2 = GridSearchCV(model2, param_grid=param2, n_jobs=-1, cv=4, verbose=2)\n",
    "\n",
    "cval2.fit(X_train, t_train)\n",
    "print('SVM with RBF Hyperparameters:\\n')\n",
    "print(cval2.best_params_, '\\n')\n",
    "\n",
    "# model2.fit(X_train, t_train)\n",
    "\n"
   ]
  },
  {
   "cell_type": "code",
   "execution_count": null,
   "id": "d340872d",
   "metadata": {},
   "outputs": [],
   "source": [
    "Y_test2 = cval2.predict(X_test)"
   ]
  },
  {
   "cell_type": "code",
   "execution_count": null,
   "id": "276cc34c",
   "metadata": {},
   "outputs": [
    {
     "name": "stdout",
     "output_type": "stream",
     "text": [
      "SVM with RBF kernel\n",
      "\n",
      "Accuracy:\n",
      " 0.5309139784946236\n",
      "F1_score:\n",
      " [0.31081081 0.45       0.41420118 0.48051948 0.69064748 0.52121212\n",
      " 0.60810811 0.6031746  0.60606061 0.68027211]\n",
      "Confusion matrix:\n",
      " [[23  7  9  7  0 10  8  4  5  2]\n",
      " [ 7 36  7  7  3  7  3  2  1  2]\n",
      " [ 6  5 35 15  1  8  0  1  3  0]\n",
      " [ 7  6 15 37  0  5  0  1  3  0]\n",
      " [ 4  9  3  3 48  5  2  1  0  0]\n",
      " [ 7  8  7  3  2 43  2  0  1  2]\n",
      " [ 6  3  2  3  3  2 45  0  3  6]\n",
      " [ 4  2  5  2  4  4  6 38  1  7]\n",
      " [ 5  7  8  3  0  4  4  1 40  3]\n",
      " [ 4  2  4  0  3  2  5  5  0 50]]\n",
      "[CV] END .................svc_r__C=0.001, svc_r__gamma=0.001; total time=  27.7s\n",
      "[CV] END .................svc_r__C=0.001, svc_r__gamma=0.001; total time=  54.7s\n",
      "[CV] END ..svc_r__C=0.001, svc_r__gamma=0.015848931924611134; total time=  54.6s\n",
      "[CV] END ..svc_r__C=0.001, svc_r__gamma=0.015848931924611134; total time=  54.5s\n",
      "[CV] END ...svc_r__C=0.001, svc_r__gamma=0.25118864315095796; total time=  54.5s\n",
      "[CV] END ...svc_r__C=0.001, svc_r__gamma=0.25118864315095796; total time=  54.6s\n",
      "[CV] END .....svc_r__C=0.001, svc_r__gamma=3.981071705534969; total time=  54.7s\n",
      "[CV] END .....svc_r__C=0.001, svc_r__gamma=3.981071705534969; total time=  54.6s\n",
      "[CV] END ......svc_r__C=0.001, svc_r__gamma=63.0957344480193; total time=  54.6s\n",
      "[CV] END ......svc_r__C=0.001, svc_r__gamma=63.0957344480193; total time=  54.6s\n",
      "[CV] END ................svc_r__C=0.001, svc_r__gamma=1000.0; total time=  54.7s\n",
      "[CV] END ................svc_r__C=0.001, svc_r__gamma=1000.0; total time=  54.7s\n",
      "[CV] END ..svc_r__C=0.015848931924611134, svc_r__gamma=0.001; total time=  54.6s\n",
      "[CV] END ..svc_r__C=0.015848931924611134, svc_r__gamma=0.001; total time=  54.7s\n",
      "[CV] END svc_r__C=0.015848931924611134, svc_r__gamma=0.015848931924611134; total time=  54.7s\n",
      "[CV] END svc_r__C=0.015848931924611134, svc_r__gamma=0.015848931924611134; total time=  54.8s\n",
      "[CV] END svc_r__C=0.015848931924611134, svc_r__gamma=0.25118864315095796; total time=  54.5s\n",
      "[CV] END svc_r__C=0.015848931924611134, svc_r__gamma=0.25118864315095796; total time=  54.8s\n",
      "[CV] END svc_r__C=0.015848931924611134, svc_r__gamma=3.981071705534969; total time=  36.6s\n",
      "[CV] END svc_r__C=0.015848931924611134, svc_r__gamma=3.981071705534969; total time=  54.7s\n",
      "[CV] END svc_r__C=0.015848931924611134, svc_r__gamma=63.0957344480193; total time=  54.5s\n",
      "[CV] END svc_r__C=0.015848931924611134, svc_r__gamma=63.0957344480193; total time=  54.9s\n",
      "[CV] END .svc_r__C=0.015848931924611134, svc_r__gamma=1000.0; total time=  54.7s\n",
      "[CV] END .svc_r__C=0.015848931924611134, svc_r__gamma=1000.0; total time=  54.7s\n",
      "[CV] END ...svc_r__C=0.25118864315095796, svc_r__gamma=0.001; total time=  54.3s\n",
      "[CV] END ...svc_r__C=0.25118864315095796, svc_r__gamma=0.001; total time=  54.4s\n",
      "[CV] END svc_r__C=0.25118864315095796, svc_r__gamma=0.015848931924611134; total time=  54.3s\n",
      "[CV] END svc_r__C=0.25118864315095796, svc_r__gamma=0.015848931924611134; total time=  54.8s\n",
      "[CV] END svc_r__C=0.25118864315095796, svc_r__gamma=0.25118864315095796; total time=  54.7s\n",
      "[CV] END svc_r__C=0.25118864315095796, svc_r__gamma=0.25118864315095796; total time=  54.8s\n",
      "[CV] END svc_r__C=0.25118864315095796, svc_r__gamma=3.981071705534969; total time=  54.4s\n",
      "[CV] END svc_r__C=0.25118864315095796, svc_r__gamma=3.981071705534969; total time=  46.1s\n",
      "[CV] END svc_r__C=0.25118864315095796, svc_r__gamma=63.0957344480193; total time=  54.3s\n",
      "[CV] END svc_r__C=0.25118864315095796, svc_r__gamma=63.0957344480193; total time=  54.5s\n",
      "[CV] END ..svc_r__C=0.25118864315095796, svc_r__gamma=1000.0; total time=  54.0s\n",
      "[CV] END ..svc_r__C=0.25118864315095796, svc_r__gamma=1000.0; total time=  54.5s\n",
      "[CV] END .....svc_r__C=3.981071705534969, svc_r__gamma=0.001; total time=  54.1s\n",
      "[CV] END .....svc_r__C=3.981071705534969, svc_r__gamma=0.001; total time=  51.8s\n",
      "[CV] END svc_r__C=3.981071705534969, svc_r__gamma=0.015848931924611134; total time=  54.4s\n",
      "[CV] END svc_r__C=3.981071705534969, svc_r__gamma=0.015848931924611134; total time=  54.1s\n",
      "[CV] END svc_r__C=3.981071705534969, svc_r__gamma=0.25118864315095796; total time=  54.3s\n",
      "[CV] END svc_r__C=3.981071705534969, svc_r__gamma=0.25118864315095796; total time=  54.8s\n",
      "[CV] END svc_r__C=3.981071705534969, svc_r__gamma=3.981071705534969; total time=  54.3s\n",
      "[CV] END svc_r__C=3.981071705534969, svc_r__gamma=3.981071705534969; total time=  54.6s\n",
      "[CV] END svc_r__C=3.981071705534969, svc_r__gamma=63.0957344480193; total time=  53.8s\n",
      "[CV] END svc_r__C=3.981071705534969, svc_r__gamma=63.0957344480193; total time=  54.7s\n",
      "[CV] END ....svc_r__C=3.981071705534969, svc_r__gamma=1000.0; total time=  54.3s\n",
      "[CV] END ....svc_r__C=3.981071705534969, svc_r__gamma=1000.0; total time=  53.2s\n",
      "[CV] END ......svc_r__C=63.0957344480193, svc_r__gamma=0.001; total time=  54.2s\n",
      "[CV] END ......svc_r__C=63.0957344480193, svc_r__gamma=0.001; total time=  54.7s\n",
      "[CV] END svc_r__C=63.0957344480193, svc_r__gamma=0.015848931924611134; total time=  54.4s\n",
      "[CV] END svc_r__C=63.0957344480193, svc_r__gamma=0.015848931924611134; total time=  54.8s\n",
      "[CV] END svc_r__C=63.0957344480193, svc_r__gamma=0.25118864315095796; total time=  54.6s\n",
      "[CV] END svc_r__C=63.0957344480193, svc_r__gamma=0.25118864315095796; total time=  55.0s\n",
      "[CV] END svc_r__C=63.0957344480193, svc_r__gamma=3.981071705534969; total time=  43.3s\n",
      "[CV] END svc_r__C=63.0957344480193, svc_r__gamma=3.981071705534969; total time=  55.2s\n",
      "[CV] END svc_r__C=63.0957344480193, svc_r__gamma=63.0957344480193; total time=  55.0s\n",
      "[CV] END svc_r__C=63.0957344480193, svc_r__gamma=63.0957344480193; total time=  54.9s\n",
      "[CV] END .....svc_r__C=63.0957344480193, svc_r__gamma=1000.0; total time=  54.4s\n",
      "[CV] END .....svc_r__C=63.0957344480193, svc_r__gamma=1000.0; total time=  54.5s\n",
      "[CV] END ................svc_r__C=1000.0, svc_r__gamma=0.001; total time=  54.1s\n",
      "[CV] END ................svc_r__C=1000.0, svc_r__gamma=0.001; total time=  54.4s\n",
      "[CV] END .svc_r__C=1000.0, svc_r__gamma=0.015848931924611134; total time=  54.2s\n",
      "[CV] END .svc_r__C=1000.0, svc_r__gamma=0.015848931924611134; total time=  54.7s\n",
      "[CV] END ..svc_r__C=1000.0, svc_r__gamma=0.25118864315095796; total time=  54.4s\n",
      "[CV] END ..svc_r__C=1000.0, svc_r__gamma=0.25118864315095796; total time=  54.8s\n",
      "[CV] END ....svc_r__C=1000.0, svc_r__gamma=3.981071705534969; total time=  54.3s\n",
      "[CV] END ....svc_r__C=1000.0, svc_r__gamma=3.981071705534969; total time=  54.7s\n",
      "[CV] END .....svc_r__C=1000.0, svc_r__gamma=63.0957344480193; total time=  54.4s\n",
      "[CV] END .....svc_r__C=1000.0, svc_r__gamma=63.0957344480193; total time=  54.8s\n",
      "[CV] END ...............svc_r__C=1000.0, svc_r__gamma=1000.0; total time=  50.5s\n",
      "[CV] END ...............svc_r__C=1000.0, svc_r__gamma=1000.0; total time=  54.7s\n",
      "[CV] END .................svc_r__C=0.001, svc_r__gamma=0.001; total time=  26.2s\n",
      "[CV] END .................svc_r__C=0.001, svc_r__gamma=0.001; total time=  51.0s\n",
      "[CV] END ..svc_r__C=0.001, svc_r__gamma=0.015848931924611134; total time=  54.3s\n",
      "[CV] END ..svc_r__C=0.001, svc_r__gamma=0.015848931924611134; total time=  54.5s\n",
      "[CV] END ...svc_r__C=0.001, svc_r__gamma=0.25118864315095796; total time=  54.3s\n",
      "[CV] END ...svc_r__C=0.001, svc_r__gamma=0.25118864315095796; total time=  54.5s\n",
      "[CV] END .....svc_r__C=0.001, svc_r__gamma=3.981071705534969; total time=  54.3s\n",
      "[CV] END .....svc_r__C=0.001, svc_r__gamma=3.981071705534969; total time=  54.5s\n",
      "[CV] END ......svc_r__C=0.001, svc_r__gamma=63.0957344480193; total time=  54.3s\n",
      "[CV] END ......svc_r__C=0.001, svc_r__gamma=63.0957344480193; total time=  54.6s\n",
      "[CV] END ................svc_r__C=0.001, svc_r__gamma=1000.0; total time=  54.4s\n",
      "[CV] END ................svc_r__C=0.001, svc_r__gamma=1000.0; total time=  54.6s\n",
      "[CV] END ..svc_r__C=0.015848931924611134, svc_r__gamma=0.001; total time=  54.3s\n",
      "[CV] END ..svc_r__C=0.015848931924611134, svc_r__gamma=0.001; total time=  54.6s\n",
      "[CV] END svc_r__C=0.015848931924611134, svc_r__gamma=0.015848931924611134; total time=  54.4s\n",
      "[CV] END svc_r__C=0.015848931924611134, svc_r__gamma=0.015848931924611134; total time=  54.6s\n",
      "[CV] END svc_r__C=0.015848931924611134, svc_r__gamma=0.25118864315095796; total time=  54.4s\n",
      "[CV] END svc_r__C=0.015848931924611134, svc_r__gamma=0.25118864315095796; total time=  50.9s\n",
      "[CV] END svc_r__C=0.015848931924611134, svc_r__gamma=3.981071705534969; total time=  54.8s\n",
      "[CV] END svc_r__C=0.015848931924611134, svc_r__gamma=3.981071705534969; total time=  54.6s\n",
      "[CV] END svc_r__C=0.015848931924611134, svc_r__gamma=63.0957344480193; total time=  54.7s\n",
      "[CV] END svc_r__C=0.015848931924611134, svc_r__gamma=63.0957344480193; total time=  54.8s\n",
      "[CV] END .svc_r__C=0.015848931924611134, svc_r__gamma=1000.0; total time=  54.7s\n",
      "[CV] END .svc_r__C=0.015848931924611134, svc_r__gamma=1000.0; total time=  54.7s\n",
      "[CV] END ...svc_r__C=0.25118864315095796, svc_r__gamma=0.001; total time=  54.5s\n",
      "[CV] END ...svc_r__C=0.25118864315095796, svc_r__gamma=0.001; total time=  54.4s\n",
      "[CV] END svc_r__C=0.25118864315095796, svc_r__gamma=0.015848931924611134; total time=  54.7s\n",
      "[CV] END svc_r__C=0.25118864315095796, svc_r__gamma=0.015848931924611134; total time=  54.9s\n",
      "[CV] END svc_r__C=0.25118864315095796, svc_r__gamma=0.25118864315095796; total time=  55.1s\n",
      "[CV] END svc_r__C=0.25118864315095796, svc_r__gamma=0.25118864315095796; total time=  54.9s\n",
      "[CV] END svc_r__C=0.25118864315095796, svc_r__gamma=3.981071705534969; total time=  55.1s\n",
      "[CV] END svc_r__C=0.25118864315095796, svc_r__gamma=3.981071705534969; total time=  55.0s\n",
      "[CV] END svc_r__C=0.25118864315095796, svc_r__gamma=63.0957344480193; total time=  55.0s\n",
      "[CV] END svc_r__C=0.25118864315095796, svc_r__gamma=63.0957344480193; total time=  54.8s\n",
      "[CV] END ..svc_r__C=0.25118864315095796, svc_r__gamma=1000.0; total time=  55.0s\n",
      "[CV] END ..svc_r__C=0.25118864315095796, svc_r__gamma=1000.0; total time=  55.1s\n",
      "[CV] END .....svc_r__C=3.981071705534969, svc_r__gamma=0.001; total time=  55.0s\n",
      "[CV] END .....svc_r__C=3.981071705534969, svc_r__gamma=0.001; total time=  53.6s\n",
      "[CV] END svc_r__C=3.981071705534969, svc_r__gamma=0.015848931924611134; total time=  55.0s\n",
      "[CV] END svc_r__C=3.981071705534969, svc_r__gamma=0.015848931924611134; total time=  54.8s\n",
      "[CV] END svc_r__C=3.981071705534969, svc_r__gamma=0.25118864315095796; total time=  54.6s\n",
      "[CV] END svc_r__C=3.981071705534969, svc_r__gamma=0.25118864315095796; total time=  49.8s\n",
      "[CV] END svc_r__C=3.981071705534969, svc_r__gamma=3.981071705534969; total time=  54.7s\n",
      "[CV] END svc_r__C=3.981071705534969, svc_r__gamma=3.981071705534969; total time=  54.7s\n",
      "[CV] END svc_r__C=3.981071705534969, svc_r__gamma=63.0957344480193; total time=  54.7s\n",
      "[CV] END svc_r__C=3.981071705534969, svc_r__gamma=63.0957344480193; total time=  54.9s\n",
      "[CV] END ....svc_r__C=3.981071705534969, svc_r__gamma=1000.0; total time=  54.9s\n",
      "[CV] END ....svc_r__C=3.981071705534969, svc_r__gamma=1000.0; total time=  54.8s\n",
      "[CV] END ......svc_r__C=63.0957344480193, svc_r__gamma=0.001; total time=  54.5s\n",
      "[CV] END ......svc_r__C=63.0957344480193, svc_r__gamma=0.001; total time=  54.7s\n",
      "[CV] END svc_r__C=63.0957344480193, svc_r__gamma=0.015848931924611134; total time=  54.7s\n",
      "[CV] END svc_r__C=63.0957344480193, svc_r__gamma=0.015848931924611134; total time=  54.6s\n",
      "[CV] END svc_r__C=63.0957344480193, svc_r__gamma=0.25118864315095796; total time=  54.6s\n",
      "[CV] END svc_r__C=63.0957344480193, svc_r__gamma=0.25118864315095796; total time=  54.7s\n",
      "[CV] END svc_r__C=63.0957344480193, svc_r__gamma=3.981071705534969; total time=  54.8s\n",
      "[CV] END svc_r__C=63.0957344480193, svc_r__gamma=3.981071705534969; total time=  54.7s\n",
      "[CV] END svc_r__C=63.0957344480193, svc_r__gamma=63.0957344480193; total time=  50.4s\n",
      "[CV] END svc_r__C=63.0957344480193, svc_r__gamma=63.0957344480193; total time=  54.7s\n",
      "[CV] END .....svc_r__C=63.0957344480193, svc_r__gamma=1000.0; total time=  55.0s\n",
      "[CV] END .....svc_r__C=63.0957344480193, svc_r__gamma=1000.0; total time=  55.1s\n",
      "[CV] END ................svc_r__C=1000.0, svc_r__gamma=0.001; total time=  54.9s\n",
      "[CV] END ................svc_r__C=1000.0, svc_r__gamma=0.001; total time=  55.0s\n",
      "[CV] END .svc_r__C=1000.0, svc_r__gamma=0.015848931924611134; total time=  46.1s\n",
      "[CV] END .svc_r__C=1000.0, svc_r__gamma=0.015848931924611134; total time=  54.8s\n",
      "[CV] END ..svc_r__C=1000.0, svc_r__gamma=0.25118864315095796; total time=  54.5s\n",
      "[CV] END ..svc_r__C=1000.0, svc_r__gamma=0.25118864315095796; total time=  52.3s\n",
      "[CV] END ....svc_r__C=1000.0, svc_r__gamma=3.981071705534969; total time=  54.9s\n",
      "[CV] END ....svc_r__C=1000.0, svc_r__gamma=3.981071705534969; total time=  55.0s\n",
      "[CV] END .....svc_r__C=1000.0, svc_r__gamma=63.0957344480193; total time=  54.9s\n",
      "[CV] END .....svc_r__C=1000.0, svc_r__gamma=63.0957344480193; total time=  54.9s\n",
      "[CV] END ...............svc_r__C=1000.0, svc_r__gamma=1000.0; total time=  54.7s\n",
      "[CV] END ...............svc_r__C=1000.0, svc_r__gamma=1000.0; total time=  54.4s\n"
     ]
    }
   ],
   "source": [
    "print('SVM with RBF kernel\\n')\n",
    "print('Accuracy:\\n',accuracy_score(t_test, Y_test2))\n",
    "print ('F1_score:\\n',f1_score(t_test, Y_test2, average=None))\n",
    "print('Confusion matrix:\\n',confusion_matrix(t_test, Y_test2))"
   ]
  },
  {
   "cell_type": "markdown",
   "id": "1db7f7a9",
   "metadata": {},
   "source": [
    "### Model 3"
   ]
  },
  {
   "cell_type": "code",
   "execution_count": 66,
   "id": "89d9068a",
   "metadata": {},
   "outputs": [],
   "source": [
    "model3 = Pipeline([('scaling', MinMaxScaler()),\n",
    "                    ('LR' , LogisticRegression(tol = 0.01))])"
   ]
  },
  {
   "cell_type": "code",
   "execution_count": 67,
   "id": "185e4326",
   "metadata": {},
   "outputs": [
    {
     "name": "stderr",
     "output_type": "stream",
     "text": [
      "/apps/pytorch/1.13.0/lib/python3.10/site-packages/sklearn/linear_model/_logistic.py:444: ConvergenceWarning: lbfgs failed to converge (status=1):\n",
      "STOP: TOTAL NO. of ITERATIONS REACHED LIMIT.\n",
      "\n",
      "Increase the number of iterations (max_iter) or scale the data as shown in:\n",
      "    https://scikit-learn.org/stable/modules/preprocessing.html\n",
      "Please also refer to the documentation for alternative solver options:\n",
      "    https://scikit-learn.org/stable/modules/linear_model.html#logistic-regression\n",
      "  n_iter_i = _check_optimize_result(\n"
     ]
    },
    {
     "data": {
      "text/html": [
       "<style>#sk-container-id-2 {color: black;background-color: white;}#sk-container-id-2 pre{padding: 0;}#sk-container-id-2 div.sk-toggleable {background-color: white;}#sk-container-id-2 label.sk-toggleable__label {cursor: pointer;display: block;width: 100%;margin-bottom: 0;padding: 0.3em;box-sizing: border-box;text-align: center;}#sk-container-id-2 label.sk-toggleable__label-arrow:before {content: \"▸\";float: left;margin-right: 0.25em;color: #696969;}#sk-container-id-2 label.sk-toggleable__label-arrow:hover:before {color: black;}#sk-container-id-2 div.sk-estimator:hover label.sk-toggleable__label-arrow:before {color: black;}#sk-container-id-2 div.sk-toggleable__content {max-height: 0;max-width: 0;overflow: hidden;text-align: left;background-color: #f0f8ff;}#sk-container-id-2 div.sk-toggleable__content pre {margin: 0.2em;color: black;border-radius: 0.25em;background-color: #f0f8ff;}#sk-container-id-2 input.sk-toggleable__control:checked~div.sk-toggleable__content {max-height: 200px;max-width: 100%;overflow: auto;}#sk-container-id-2 input.sk-toggleable__control:checked~label.sk-toggleable__label-arrow:before {content: \"▾\";}#sk-container-id-2 div.sk-estimator input.sk-toggleable__control:checked~label.sk-toggleable__label {background-color: #d4ebff;}#sk-container-id-2 div.sk-label input.sk-toggleable__control:checked~label.sk-toggleable__label {background-color: #d4ebff;}#sk-container-id-2 input.sk-hidden--visually {border: 0;clip: rect(1px 1px 1px 1px);clip: rect(1px, 1px, 1px, 1px);height: 1px;margin: -1px;overflow: hidden;padding: 0;position: absolute;width: 1px;}#sk-container-id-2 div.sk-estimator {font-family: monospace;background-color: #f0f8ff;border: 1px dotted black;border-radius: 0.25em;box-sizing: border-box;margin-bottom: 0.5em;}#sk-container-id-2 div.sk-estimator:hover {background-color: #d4ebff;}#sk-container-id-2 div.sk-parallel-item::after {content: \"\";width: 100%;border-bottom: 1px solid gray;flex-grow: 1;}#sk-container-id-2 div.sk-label:hover label.sk-toggleable__label {background-color: #d4ebff;}#sk-container-id-2 div.sk-serial::before {content: \"\";position: absolute;border-left: 1px solid gray;box-sizing: border-box;top: 0;bottom: 0;left: 50%;z-index: 0;}#sk-container-id-2 div.sk-serial {display: flex;flex-direction: column;align-items: center;background-color: white;padding-right: 0.2em;padding-left: 0.2em;position: relative;}#sk-container-id-2 div.sk-item {position: relative;z-index: 1;}#sk-container-id-2 div.sk-parallel {display: flex;align-items: stretch;justify-content: center;background-color: white;position: relative;}#sk-container-id-2 div.sk-item::before, #sk-container-id-2 div.sk-parallel-item::before {content: \"\";position: absolute;border-left: 1px solid gray;box-sizing: border-box;top: 0;bottom: 0;left: 50%;z-index: -1;}#sk-container-id-2 div.sk-parallel-item {display: flex;flex-direction: column;z-index: 1;position: relative;background-color: white;}#sk-container-id-2 div.sk-parallel-item:first-child::after {align-self: flex-end;width: 50%;}#sk-container-id-2 div.sk-parallel-item:last-child::after {align-self: flex-start;width: 50%;}#sk-container-id-2 div.sk-parallel-item:only-child::after {width: 0;}#sk-container-id-2 div.sk-dashed-wrapped {border: 1px dashed gray;margin: 0 0.4em 0.5em 0.4em;box-sizing: border-box;padding-bottom: 0.4em;background-color: white;}#sk-container-id-2 div.sk-label label {font-family: monospace;font-weight: bold;display: inline-block;line-height: 1.2em;}#sk-container-id-2 div.sk-label-container {text-align: center;}#sk-container-id-2 div.sk-container {/* jupyter's `normalize.less` sets `[hidden] { display: none; }` but bootstrap.min.css set `[hidden] { display: none !important; }` so we also need the `!important` here to be able to override the default hidden behavior on the sphinx rendered scikit-learn.org. See: https://github.com/scikit-learn/scikit-learn/issues/21755 */display: inline-block !important;position: relative;}#sk-container-id-2 div.sk-text-repr-fallback {display: none;}</style><div id=\"sk-container-id-2\" class=\"sk-top-container\"><div class=\"sk-text-repr-fallback\"><pre>Pipeline(steps=[(&#x27;scaling&#x27;, MinMaxScaler()),\n",
       "                (&#x27;LR&#x27;, LogisticRegression(tol=0.01))])</pre><b>In a Jupyter environment, please rerun this cell to show the HTML representation or trust the notebook. <br />On GitHub, the HTML representation is unable to render, please try loading this page with nbviewer.org.</b></div><div class=\"sk-container\" hidden><div class=\"sk-item sk-dashed-wrapped\"><div class=\"sk-label-container\"><div class=\"sk-label sk-toggleable\"><input class=\"sk-toggleable__control sk-hidden--visually\" id=\"sk-estimator-id-4\" type=\"checkbox\" ><label for=\"sk-estimator-id-4\" class=\"sk-toggleable__label sk-toggleable__label-arrow\">Pipeline</label><div class=\"sk-toggleable__content\"><pre>Pipeline(steps=[(&#x27;scaling&#x27;, MinMaxScaler()),\n",
       "                (&#x27;LR&#x27;, LogisticRegression(tol=0.01))])</pre></div></div></div><div class=\"sk-serial\"><div class=\"sk-item\"><div class=\"sk-estimator sk-toggleable\"><input class=\"sk-toggleable__control sk-hidden--visually\" id=\"sk-estimator-id-5\" type=\"checkbox\" ><label for=\"sk-estimator-id-5\" class=\"sk-toggleable__label sk-toggleable__label-arrow\">MinMaxScaler</label><div class=\"sk-toggleable__content\"><pre>MinMaxScaler()</pre></div></div></div><div class=\"sk-item\"><div class=\"sk-estimator sk-toggleable\"><input class=\"sk-toggleable__control sk-hidden--visually\" id=\"sk-estimator-id-6\" type=\"checkbox\" ><label for=\"sk-estimator-id-6\" class=\"sk-toggleable__label sk-toggleable__label-arrow\">LogisticRegression</label><div class=\"sk-toggleable__content\"><pre>LogisticRegression(tol=0.01)</pre></div></div></div></div></div></div></div>"
      ],
      "text/plain": [
       "Pipeline(steps=[('scaling', MinMaxScaler()),\n",
       "                ('LR', LogisticRegression(tol=0.01))])"
      ]
     },
     "execution_count": 67,
     "metadata": {},
     "output_type": "execute_result"
    }
   ],
   "source": [
    "model3.fit(X_train, t_train)"
   ]
  },
  {
   "cell_type": "markdown",
   "id": "2e68b84a",
   "metadata": {},
   "source": [
    "---"
   ]
  },
  {
   "cell_type": "code",
   "execution_count": 68,
   "id": "60e0e8ab",
   "metadata": {},
   "outputs": [],
   "source": [
    "Y_test3 = model3.predict(X_test)"
   ]
  },
  {
   "cell_type": "code",
   "execution_count": 69,
   "id": "0de7fd91",
   "metadata": {},
   "outputs": [
    {
     "name": "stdout",
     "output_type": "stream",
     "text": [
      "LR\n",
      "\n",
      "Accuracy:\n",
      " 0.3655913978494624\n",
      "F1_score:\n",
      " [0.15384615 0.27272727 0.28169014 0.27941176 0.46666667 0.33112583\n",
      " 0.55782313 0.35135135 0.39285714 0.55033557]\n",
      "Confusion matrix:\n",
      " [[11 10  7  3  8 11  4  7  7  7]\n",
      " [ 9 21  7 10  3  4  6  5  4  6]\n",
      " [ 7  7 20  9  5  6  1  3 14  2]\n",
      " [ 2  7 14 19  3  7  2  9 10  1]\n",
      " [ 3 10  3  3 35  8  3  6  4  0]\n",
      " [ 7  6  8  7  9 25  4  2  6  1]\n",
      " [ 3  2  2  3  1  3 41  7  6  5]\n",
      " [ 7  4  2  2  7  7  4 26  5  9]\n",
      " [ 9  9  3  5  2  1  6  5 33  2]\n",
      " [10  3  2  1  2  4  3  5  4 41]]\n"
     ]
    }
   ],
   "source": [
    "print('LR\\n')\n",
    "print('Accuracy:\\n',accuracy_score(t_test, Y_test3))\n",
    "print ('F1_score:\\n',f1_score(t_test, Y_test3, average=None))\n",
    "print('Confusion matrix:\\n',confusion_matrix(t_test, Y_test3))"
   ]
  },
  {
   "cell_type": "markdown",
   "id": "b5576ef4",
   "metadata": {},
   "source": [
    "### Model4"
   ]
  },
  {
   "cell_type": "code",
   "execution_count": 91,
   "id": "d7cdd99b",
   "metadata": {},
   "outputs": [
    {
     "data": {
      "text/html": [
       "<style>#sk-container-id-6 {color: black;background-color: white;}#sk-container-id-6 pre{padding: 0;}#sk-container-id-6 div.sk-toggleable {background-color: white;}#sk-container-id-6 label.sk-toggleable__label {cursor: pointer;display: block;width: 100%;margin-bottom: 0;padding: 0.3em;box-sizing: border-box;text-align: center;}#sk-container-id-6 label.sk-toggleable__label-arrow:before {content: \"▸\";float: left;margin-right: 0.25em;color: #696969;}#sk-container-id-6 label.sk-toggleable__label-arrow:hover:before {color: black;}#sk-container-id-6 div.sk-estimator:hover label.sk-toggleable__label-arrow:before {color: black;}#sk-container-id-6 div.sk-toggleable__content {max-height: 0;max-width: 0;overflow: hidden;text-align: left;background-color: #f0f8ff;}#sk-container-id-6 div.sk-toggleable__content pre {margin: 0.2em;color: black;border-radius: 0.25em;background-color: #f0f8ff;}#sk-container-id-6 input.sk-toggleable__control:checked~div.sk-toggleable__content {max-height: 200px;max-width: 100%;overflow: auto;}#sk-container-id-6 input.sk-toggleable__control:checked~label.sk-toggleable__label-arrow:before {content: \"▾\";}#sk-container-id-6 div.sk-estimator input.sk-toggleable__control:checked~label.sk-toggleable__label {background-color: #d4ebff;}#sk-container-id-6 div.sk-label input.sk-toggleable__control:checked~label.sk-toggleable__label {background-color: #d4ebff;}#sk-container-id-6 input.sk-hidden--visually {border: 0;clip: rect(1px 1px 1px 1px);clip: rect(1px, 1px, 1px, 1px);height: 1px;margin: -1px;overflow: hidden;padding: 0;position: absolute;width: 1px;}#sk-container-id-6 div.sk-estimator {font-family: monospace;background-color: #f0f8ff;border: 1px dotted black;border-radius: 0.25em;box-sizing: border-box;margin-bottom: 0.5em;}#sk-container-id-6 div.sk-estimator:hover {background-color: #d4ebff;}#sk-container-id-6 div.sk-parallel-item::after {content: \"\";width: 100%;border-bottom: 1px solid gray;flex-grow: 1;}#sk-container-id-6 div.sk-label:hover label.sk-toggleable__label {background-color: #d4ebff;}#sk-container-id-6 div.sk-serial::before {content: \"\";position: absolute;border-left: 1px solid gray;box-sizing: border-box;top: 0;bottom: 0;left: 50%;z-index: 0;}#sk-container-id-6 div.sk-serial {display: flex;flex-direction: column;align-items: center;background-color: white;padding-right: 0.2em;padding-left: 0.2em;position: relative;}#sk-container-id-6 div.sk-item {position: relative;z-index: 1;}#sk-container-id-6 div.sk-parallel {display: flex;align-items: stretch;justify-content: center;background-color: white;position: relative;}#sk-container-id-6 div.sk-item::before, #sk-container-id-6 div.sk-parallel-item::before {content: \"\";position: absolute;border-left: 1px solid gray;box-sizing: border-box;top: 0;bottom: 0;left: 50%;z-index: -1;}#sk-container-id-6 div.sk-parallel-item {display: flex;flex-direction: column;z-index: 1;position: relative;background-color: white;}#sk-container-id-6 div.sk-parallel-item:first-child::after {align-self: flex-end;width: 50%;}#sk-container-id-6 div.sk-parallel-item:last-child::after {align-self: flex-start;width: 50%;}#sk-container-id-6 div.sk-parallel-item:only-child::after {width: 0;}#sk-container-id-6 div.sk-dashed-wrapped {border: 1px dashed gray;margin: 0 0.4em 0.5em 0.4em;box-sizing: border-box;padding-bottom: 0.4em;background-color: white;}#sk-container-id-6 div.sk-label label {font-family: monospace;font-weight: bold;display: inline-block;line-height: 1.2em;}#sk-container-id-6 div.sk-label-container {text-align: center;}#sk-container-id-6 div.sk-container {/* jupyter's `normalize.less` sets `[hidden] { display: none; }` but bootstrap.min.css set `[hidden] { display: none !important; }` so we also need the `!important` here to be able to override the default hidden behavior on the sphinx rendered scikit-learn.org. See: https://github.com/scikit-learn/scikit-learn/issues/21755 */display: inline-block !important;position: relative;}#sk-container-id-6 div.sk-text-repr-fallback {display: none;}</style><div id=\"sk-container-id-6\" class=\"sk-top-container\"><div class=\"sk-text-repr-fallback\"><pre>Pipeline(steps=[(&#x27;scaler&#x27;, StandardScaler()),\n",
       "                (&#x27;lda&#x27;, LinearDiscriminantAnalysis(n_components=9)),\n",
       "                (&#x27;lr&#x27;, LogisticRegression())])</pre><b>In a Jupyter environment, please rerun this cell to show the HTML representation or trust the notebook. <br />On GitHub, the HTML representation is unable to render, please try loading this page with nbviewer.org.</b></div><div class=\"sk-container\" hidden><div class=\"sk-item sk-dashed-wrapped\"><div class=\"sk-label-container\"><div class=\"sk-label sk-toggleable\"><input class=\"sk-toggleable__control sk-hidden--visually\" id=\"sk-estimator-id-16\" type=\"checkbox\" ><label for=\"sk-estimator-id-16\" class=\"sk-toggleable__label sk-toggleable__label-arrow\">Pipeline</label><div class=\"sk-toggleable__content\"><pre>Pipeline(steps=[(&#x27;scaler&#x27;, StandardScaler()),\n",
       "                (&#x27;lda&#x27;, LinearDiscriminantAnalysis(n_components=9)),\n",
       "                (&#x27;lr&#x27;, LogisticRegression())])</pre></div></div></div><div class=\"sk-serial\"><div class=\"sk-item\"><div class=\"sk-estimator sk-toggleable\"><input class=\"sk-toggleable__control sk-hidden--visually\" id=\"sk-estimator-id-17\" type=\"checkbox\" ><label for=\"sk-estimator-id-17\" class=\"sk-toggleable__label sk-toggleable__label-arrow\">StandardScaler</label><div class=\"sk-toggleable__content\"><pre>StandardScaler()</pre></div></div></div><div class=\"sk-item\"><div class=\"sk-estimator sk-toggleable\"><input class=\"sk-toggleable__control sk-hidden--visually\" id=\"sk-estimator-id-18\" type=\"checkbox\" ><label for=\"sk-estimator-id-18\" class=\"sk-toggleable__label sk-toggleable__label-arrow\">LinearDiscriminantAnalysis</label><div class=\"sk-toggleable__content\"><pre>LinearDiscriminantAnalysis(n_components=9)</pre></div></div></div><div class=\"sk-item\"><div class=\"sk-estimator sk-toggleable\"><input class=\"sk-toggleable__control sk-hidden--visually\" id=\"sk-estimator-id-19\" type=\"checkbox\" ><label for=\"sk-estimator-id-19\" class=\"sk-toggleable__label sk-toggleable__label-arrow\">LogisticRegression</label><div class=\"sk-toggleable__content\"><pre>LogisticRegression()</pre></div></div></div></div></div></div></div>"
      ],
      "text/plain": [
       "Pipeline(steps=[('scaler', StandardScaler()),\n",
       "                ('lda', LinearDiscriminantAnalysis(n_components=9)),\n",
       "                ('lr', LogisticRegression())])"
      ]
     },
     "execution_count": 91,
     "metadata": {},
     "output_type": "execute_result"
    }
   ],
   "source": [
    "model4 = Pipeline([('scaler', StandardScaler()),\n",
    "                 ('lda', LDA(n_components=9)),\n",
    "                 ('lr', LogisticRegression())])\n",
    "model4.fit(X_train, t_train)\n",
    "\n"
   ]
  },
  {
   "cell_type": "code",
   "execution_count": 92,
   "id": "f940b07b",
   "metadata": {},
   "outputs": [],
   "source": [
    "Y_test4 = model4.predict(X_test)"
   ]
  },
  {
   "cell_type": "code",
   "execution_count": 94,
   "id": "a7f02c88",
   "metadata": {},
   "outputs": [
    {
     "name": "stdout",
     "output_type": "stream",
     "text": [
      "LR\n",
      "\n",
      "Accuracy:\n",
      " 0.1881720430107527\n",
      "F1_score:\n",
      " [0.12403101 0.08196721 0.1322314  0.13333333 0.22222222 0.11827957\n",
      " 0.34871795 0.08       0.10810811 0.34482759]\n",
      "Confusion matrix:\n",
      " [[ 8  3  5 11  9 15  9  1  4 10]\n",
      " [ 7  5  4  7  7 14 12  4  3 12]\n",
      " [ 5  7  8 11 10 12  6  1  6  8]\n",
      " [ 4  7  6 10  7 13 11  3  6  7]\n",
      " [ 2  8  3  2 19 15  8  6  0 12]\n",
      " [ 5  8  6  7 11 11 10  0  5 12]\n",
      " [ 4  2  2  4  4  5 34  2  4 12]\n",
      " [ 6  2  4  5 11 15 13  4  0 13]\n",
      " [ 3  4  8 17 11  7  9  3  6  7]\n",
      " [10  1  1  2  7  4 10  3  2 35]]\n"
     ]
    }
   ],
   "source": [
    "print('LR\\n')\n",
    "print('Accuracy:\\n',accuracy_score(t_test, Y_test4))\n",
    "print ('F1_score:\\n',f1_score(t_test, Y_test4, average=None))\n",
    "print('Confusion matrix:\\n',confusion_matrix(t_test, Y_test4))"
   ]
  },
  {
   "cell_type": "code",
   "execution_count": null,
   "id": "2b868ccd",
   "metadata": {},
   "outputs": [],
   "source": []
  },
  {
   "cell_type": "code",
   "execution_count": null,
   "id": "51a1766c",
   "metadata": {},
   "outputs": [],
   "source": []
  },
  {
   "cell_type": "code",
   "execution_count": null,
   "id": "07b4532b",
   "metadata": {},
   "outputs": [],
   "source": []
  }
 ],
 "metadata": {
  "kernelspec": {
   "display_name": "Python 3 (ipykernel)",
   "language": "python",
   "name": "python3"
  },
  "language_info": {
   "codemirror_mode": {
    "name": "ipython",
    "version": 3
   },
   "file_extension": ".py",
   "mimetype": "text/x-python",
   "name": "python",
   "nbconvert_exporter": "python",
   "pygments_lexer": "ipython3",
   "version": "3.8.16"
  },
  "latex_envs": {
   "LaTeX_envs_menu_present": true,
   "autoclose": false,
   "autocomplete": true,
   "bibliofile": "biblio.bib",
   "cite_by": "apalike",
   "current_citInitial": 1,
   "eqLabelWithNumbers": true,
   "eqNumInitial": 1,
   "hotkeys": {
    "equation": "Ctrl-E",
    "itemize": "Ctrl-I"
   },
   "labels_anchors": false,
   "latex_user_defs": false,
   "report_style_numbering": false,
   "user_envs_cfg": false
  },
  "varInspector": {
   "cols": {
    "lenName": 16,
    "lenType": 16,
    "lenVar": 40
   },
   "kernels_config": {
    "python": {
     "delete_cmd_postfix": "",
     "delete_cmd_prefix": "del ",
     "library": "var_list.py",
     "varRefreshCmd": "print(var_dic_list())"
    },
    "r": {
     "delete_cmd_postfix": ") ",
     "delete_cmd_prefix": "rm(",
     "library": "var_list.r",
     "varRefreshCmd": "cat(var_dic_list()) "
    }
   },
   "types_to_exclude": [
    "module",
    "function",
    "builtin_function_or_method",
    "instance",
    "_Feature"
   ],
   "window_display": false
  }
 },
 "nbformat": 4,
 "nbformat_minor": 5
}
