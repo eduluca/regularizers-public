{
 "cells": [
  {
   "cell_type": "code",
   "execution_count": 11,
   "id": "6614630b",
   "metadata": {},
   "outputs": [],
   "source": [
    "import numpy as np\n",
    "import matplotlib.pyplot as plt\n",
    "%matplotlib inline\n",
    "plt.style.use('bmh')\n",
    "\n",
    "import tensorflow as tf\n",
    "from tensorflow import keras"
   ]
  },
  {
   "cell_type": "code",
   "execution_count": 15,
   "id": "2906c922",
   "metadata": {},
   "outputs": [
    {
     "name": "stdout",
     "output_type": "stream",
     "text": [
      "(270000, 5933) (5933,)\n"
     ]
    }
   ],
   "source": [
    "# Loading Data\n",
    "data_test = np.load('data_train.npy')\n",
    "labels_test = np.load('labels_train_corrected.npy')\n",
    "\n",
    "print(data_test.shape, labels_test.shape)"
   ]
  },
  {
   "cell_type": "code",
   "execution_count": 16,
   "id": "057e16c1",
   "metadata": {},
   "outputs": [
    {
     "name": "stderr",
     "output_type": "stream",
     "text": [
      "/var/folders/87/nhh_mdjd5dj3s1fc5vmd_28r0000gn/T/ipykernel_85983/3089588079.py:16: DeprecationWarning: ANTIALIAS is deprecated and will be removed in Pillow 10 (2023-07-01). Use LANCZOS or Resampling.LANCZOS instead.\n",
      "  resized_pil = image_pil.resize(dim, Image.ANTIALIAS)  # Resize using Pillow's resize function\n"
     ]
    }
   ],
   "source": [
    "#Resizing images\n",
    "\n",
    "from PIL import Image\n",
    "import numpy as np\n",
    "\n",
    "image_resized = []\n",
    "dim = (64, 64)\n",
    "\n",
    "for i in range(len(data_test.T)):\n",
    "    image = data_test[:, i].reshape((300, 300, 3))\n",
    "\n",
    "    # Convert RGB to BGR\n",
    "    bgr_image = image[..., ::-1]\n",
    "\n",
    "    image_pil = Image.fromarray(bgr_image.astype('uint8'))  # Convert to PIL image\n",
    "    resized_pil = image_pil.resize(dim, Image.ANTIALIAS)  # Resize using Pillow's resize function\n",
    "\n",
    "    # Convert back to BGR\n",
    "    resized_bgr = np.array(resized_pil)\n",
    "    resized_rgb = resized_bgr[..., ::-1]\n",
    "\n",
    "    image_resized.append(resized_rgb)\n",
    "\n",
    "# Convert the list of resized images to a NumPy array\n",
    "image_resized = np.array(image_resized)"
   ]
  },
  {
   "cell_type": "code",
   "execution_count": 18,
   "id": "89fbd487",
   "metadata": {},
   "outputs": [],
   "source": [
    "from sklearn.model_selection import train_test_split\n",
    "\n",
    "X_train_full = np.load('data_train.npy').T\n",
    "t_train_full = np.load('labels_train_corrected.npy')\n",
    "\n",
    "# Training and Test sets\n",
    "X_training, X_test, t_training, t_test = train_test_split(X_train_full, \n",
    "                                                  t_train_full, \n",
    "                                                  shuffle=True,\n",
    "                                                  stratify=t_train_full,\n",
    "                                                  test_size=0.5)"
   ]
  },
  {
   "cell_type": "code",
   "execution_count": null,
   "id": "97d5c3ab",
   "metadata": {},
   "outputs": [],
   "source": [
    "X_test_reshaped = X_test.reshape(-1, 300, 300, 3)"
   ]
  },
  {
   "cell_type": "code",
   "execution_count": 19,
   "id": "33b055c2",
   "metadata": {},
   "outputs": [],
   "source": [
    "data_test = X_test_reshaped #input data test\n",
    "labels_test = t_test #input labels test"
   ]
  },
  {
   "cell_type": "code",
   "execution_count": 20,
   "id": "95375d95",
   "metadata": {},
   "outputs": [],
   "source": [
    "# Labels Encoding\n",
    "\n",
    "labels_names = ['Nike',\n",
    "                'Adidas',\n",
    "                'Ford',\n",
    "                'Honda',\n",
    "                'General Mills',\n",
    "                'Unilever',\n",
    "                \"McDonald's\",\n",
    "                'KFC',\n",
    "                'Gators',\n",
    "                '3M']"
   ]
  },
  {
   "cell_type": "code",
   "execution_count": 22,
   "id": "d7c30531",
   "metadata": {},
   "outputs": [
    {
     "ename": "ValueError",
     "evalue": "in user code:\n\n    File \"/Users/SuperPawn/opt/anaconda3/envs/fml/lib/python3.8/site-packages/keras/engine/training.py\", line 1727, in test_function  *\n        return step_function(self, iterator)\n    File \"/Users/SuperPawn/opt/anaconda3/envs/fml/lib/python3.8/site-packages/keras/engine/training.py\", line 1713, in step_function  **\n        outputs = model.distribute_strategy.run(run_step, args=(data,))\n    File \"/Users/SuperPawn/opt/anaconda3/envs/fml/lib/python3.8/site-packages/keras/engine/training.py\", line 1701, in run_step  **\n        outputs = model.test_step(data)\n    File \"/Users/SuperPawn/opt/anaconda3/envs/fml/lib/python3.8/site-packages/keras/engine/training.py\", line 1665, in test_step\n        y_pred = self(x, training=False)\n    File \"/Users/SuperPawn/opt/anaconda3/envs/fml/lib/python3.8/site-packages/keras/utils/traceback_utils.py\", line 70, in error_handler\n        raise e.with_traceback(filtered_tb) from None\n    File \"/Users/SuperPawn/opt/anaconda3/envs/fml/lib/python3.8/site-packages/keras/engine/input_spec.py\", line 295, in assert_input_compatibility\n        raise ValueError(\n\n    ValueError: Input 0 of layer \"model\" is incompatible with the layer: expected shape=(None, 300, 300, 3), found shape=(None, 270000)\n",
     "output_type": "error",
     "traceback": [
      "\u001b[0;31m---------------------------------------------------------------------------\u001b[0m",
      "\u001b[0;31mValueError\u001b[0m                                Traceback (most recent call last)",
      "Cell \u001b[0;32mIn[22], line 7\u001b[0m\n\u001b[1;32m      4\u001b[0m new_model \u001b[38;5;241m=\u001b[39m keras\u001b[38;5;241m.\u001b[39mmodels\u001b[38;5;241m.\u001b[39mload_model(\u001b[38;5;124m'\u001b[39m\u001b[38;5;124mfinal_model.h5\u001b[39m\u001b[38;5;124m'\u001b[39m)\n\u001b[1;32m      6\u001b[0m \u001b[38;5;66;03m# Evaluate on test data\u001b[39;00m\n\u001b[0;32m----> 7\u001b[0m loss, acc \u001b[38;5;241m=\u001b[39m \u001b[43mnew_model\u001b[49m\u001b[38;5;241;43m.\u001b[39;49m\u001b[43mevaluate\u001b[49m\u001b[43m(\u001b[49m\u001b[43mdata_test\u001b[49m\u001b[43m,\u001b[49m\u001b[43m \u001b[49m\u001b[43mlabels_test\u001b[49m\u001b[43m)\u001b[49m\n",
      "File \u001b[0;32m~/opt/anaconda3/envs/fml/lib/python3.8/site-packages/keras/utils/traceback_utils.py:70\u001b[0m, in \u001b[0;36mfilter_traceback.<locals>.error_handler\u001b[0;34m(*args, **kwargs)\u001b[0m\n\u001b[1;32m     67\u001b[0m     filtered_tb \u001b[38;5;241m=\u001b[39m _process_traceback_frames(e\u001b[38;5;241m.\u001b[39m__traceback__)\n\u001b[1;32m     68\u001b[0m     \u001b[38;5;66;03m# To get the full stack trace, call:\u001b[39;00m\n\u001b[1;32m     69\u001b[0m     \u001b[38;5;66;03m# `tf.debugging.disable_traceback_filtering()`\u001b[39;00m\n\u001b[0;32m---> 70\u001b[0m     \u001b[38;5;28;01mraise\u001b[39;00m e\u001b[38;5;241m.\u001b[39mwith_traceback(filtered_tb) \u001b[38;5;28;01mfrom\u001b[39;00m \u001b[38;5;28;01mNone\u001b[39;00m\n\u001b[1;32m     71\u001b[0m \u001b[38;5;28;01mfinally\u001b[39;00m:\n\u001b[1;32m     72\u001b[0m     \u001b[38;5;28;01mdel\u001b[39;00m filtered_tb\n",
      "File \u001b[0;32m/var/folders/87/nhh_mdjd5dj3s1fc5vmd_28r0000gn/T/__autograph_generated_filezklidokm.py:15\u001b[0m, in \u001b[0;36mouter_factory.<locals>.inner_factory.<locals>.tf__test_function\u001b[0;34m(iterator)\u001b[0m\n\u001b[1;32m     13\u001b[0m \u001b[38;5;28;01mtry\u001b[39;00m:\n\u001b[1;32m     14\u001b[0m     do_return \u001b[38;5;241m=\u001b[39m \u001b[38;5;28;01mTrue\u001b[39;00m\n\u001b[0;32m---> 15\u001b[0m     retval_ \u001b[38;5;241m=\u001b[39m ag__\u001b[38;5;241m.\u001b[39mconverted_call(ag__\u001b[38;5;241m.\u001b[39mld(step_function), (ag__\u001b[38;5;241m.\u001b[39mld(\u001b[38;5;28mself\u001b[39m), ag__\u001b[38;5;241m.\u001b[39mld(iterator)), \u001b[38;5;28;01mNone\u001b[39;00m, fscope)\n\u001b[1;32m     16\u001b[0m \u001b[38;5;28;01mexcept\u001b[39;00m:\n\u001b[1;32m     17\u001b[0m     do_return \u001b[38;5;241m=\u001b[39m \u001b[38;5;28;01mFalse\u001b[39;00m\n",
      "\u001b[0;31mValueError\u001b[0m: in user code:\n\n    File \"/Users/SuperPawn/opt/anaconda3/envs/fml/lib/python3.8/site-packages/keras/engine/training.py\", line 1727, in test_function  *\n        return step_function(self, iterator)\n    File \"/Users/SuperPawn/opt/anaconda3/envs/fml/lib/python3.8/site-packages/keras/engine/training.py\", line 1713, in step_function  **\n        outputs = model.distribute_strategy.run(run_step, args=(data,))\n    File \"/Users/SuperPawn/opt/anaconda3/envs/fml/lib/python3.8/site-packages/keras/engine/training.py\", line 1701, in run_step  **\n        outputs = model.test_step(data)\n    File \"/Users/SuperPawn/opt/anaconda3/envs/fml/lib/python3.8/site-packages/keras/engine/training.py\", line 1665, in test_step\n        y_pred = self(x, training=False)\n    File \"/Users/SuperPawn/opt/anaconda3/envs/fml/lib/python3.8/site-packages/keras/utils/traceback_utils.py\", line 70, in error_handler\n        raise e.with_traceback(filtered_tb) from None\n    File \"/Users/SuperPawn/opt/anaconda3/envs/fml/lib/python3.8/site-packages/keras/engine/input_spec.py\", line 295, in assert_input_compatibility\n        raise ValueError(\n\n    ValueError: Input 0 of layer \"model\" is incompatible with the layer: expected shape=(None, 300, 300, 3), found shape=(None, 270000)\n"
     ]
    }
   ],
   "source": [
    "from tensorflow import keras\n",
    "\n",
    "# Load saved model\n",
    "new_model = keras.models.load_model('final_model.h5')\n",
    "\n",
    "# Evaluate on test data\n",
    "loss, acc = new_model.evaluate(data_test, labels_test)"
   ]
  },
  {
   "cell_type": "code",
   "execution_count": null,
   "id": "a928d138",
   "metadata": {},
   "outputs": [],
   "source": [
    "from sklearn.metrics import classification_report\n",
    "\n",
    "print(classification_report(data_test, labels_test, target_names=labels_names))"
   ]
  },
  {
   "cell_type": "code",
   "execution_count": null,
   "id": "8e5e8d0c",
   "metadata": {},
   "outputs": [],
   "source": []
  }
 ],
 "metadata": {
  "kernelspec": {
   "display_name": "Python 3 (ipykernel)",
   "language": "python",
   "name": "python3"
  },
  "language_info": {
   "codemirror_mode": {
    "name": "ipython",
    "version": 3
   },
   "file_extension": ".py",
   "mimetype": "text/x-python",
   "name": "python",
   "nbconvert_exporter": "python",
   "pygments_lexer": "ipython3",
   "version": "3.8.17"
  }
 },
 "nbformat": 4,
 "nbformat_minor": 5
}
