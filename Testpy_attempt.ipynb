{
 "cells": [
  {
   "cell_type": "code",
   "execution_count": null,
   "id": "7443fd27",
   "metadata": {},
   "outputs": [],
   "source": [
    "data_test = #input data test\n",
    "labels_test = #input labels test"
   ]
  },
  {
   "cell_type": "code",
   "execution_count": 1,
   "id": "ece23c14",
   "metadata": {},
   "outputs": [
    {
     "ename": "NameError",
     "evalue": "name 'data_train' is not defined",
     "output_type": "error",
     "traceback": [
      "\u001b[0;31m---------------------------------------------------------------------------\u001b[0m",
      "\u001b[0;31mNameError\u001b[0m                                 Traceback (most recent call last)",
      "Cell \u001b[0;32mIn[1], line 9\u001b[0m\n\u001b[1;32m      6\u001b[0m image_resized \u001b[38;5;241m=\u001b[39m []\n\u001b[1;32m      7\u001b[0m dim \u001b[38;5;241m=\u001b[39m (\u001b[38;5;241m64\u001b[39m, \u001b[38;5;241m64\u001b[39m)\n\u001b[0;32m----> 9\u001b[0m \u001b[38;5;28;01mfor\u001b[39;00m i \u001b[38;5;129;01min\u001b[39;00m \u001b[38;5;28mrange\u001b[39m(\u001b[38;5;28mlen\u001b[39m(\u001b[43mdata_train\u001b[49m\u001b[38;5;241m.\u001b[39mT)):\n\u001b[1;32m     10\u001b[0m     image \u001b[38;5;241m=\u001b[39m data_train[:, i]\u001b[38;5;241m.\u001b[39mreshape((\u001b[38;5;241m300\u001b[39m, \u001b[38;5;241m300\u001b[39m, \u001b[38;5;241m3\u001b[39m))\n\u001b[1;32m     12\u001b[0m     \u001b[38;5;66;03m# Convert RGB to BGR\u001b[39;00m\n",
      "\u001b[0;31mNameError\u001b[0m: name 'data_train' is not defined"
     ]
    }
   ],
   "source": [
    "#Resizing images\n",
    "\n",
    "from PIL import Image\n",
    "import numpy as np\n",
    "\n",
    "image_resized = []\n",
    "dim = (64, 64)\n",
    "\n",
    "for i in range(len(data_test.T)):\n",
    "    image = data_test[:, i].reshape((300, 300, 3))\n",
    "\n",
    "    # Convert RGB to BGR\n",
    "    bgr_image = image[..., ::-1]\n",
    "\n",
    "    image_pil = Image.fromarray(bgr_image.astype('uint8'))  # Convert to PIL image\n",
    "    resized_pil = image_pil.resize(dim, Image.ANTIALIAS)  # Resize using Pillow's resize function\n",
    "\n",
    "    # Convert back to BGR\n",
    "    resized_bgr = np.array(resized_pil)\n",
    "    resized_rgb = resized_bgr[..., ::-1]\n",
    "\n",
    "    image_resized.append(resized_rgb)\n",
    "\n",
    "# Convert the list of resized images to a NumPy array\n",
    "image_resized = np.array(image_resized)"
   ]
  },
  {
   "cell_type": "code",
   "execution_count": null,
   "id": "5fc6872b",
   "metadata": {},
   "outputs": [],
   "source": [
    "# Labels Encoding\n",
    "\n",
    "labels_names = ['Nike',\n",
    "                'Adidas',\n",
    "                'Ford',\n",
    "                'Honda',\n",
    "                'General Mills',\n",
    "                'Unilever',\n",
    "                \"McDonald's\",\n",
    "                'KFC',\n",
    "                'Gators',\n",
    "                '3M']"
   ]
  },
  {
   "cell_type": "code",
   "execution_count": null,
   "id": "9971373c",
   "metadata": {},
   "outputs": [],
   "source": [
    "from tensorflow import keras\n",
    "\n",
    "# Load saved model\n",
    "new_model = keras.models.load_model('final_model.h5')\n",
    "\n",
    "# Evaluate on test data\n",
    "loss, acc = new_model.evaluate(data_test, labels_test)"
   ]
  },
  {
   "cell_type": "code",
   "execution_count": null,
   "id": "453271f1",
   "metadata": {},
   "outputs": [],
   "source": [
    "from sklearn.metrics import classification_report\n",
    "\n",
    "print(classification_report(data_test, labels_test, target_names=labels_names))"
   ]
  },
  {
   "cell_type": "code",
   "execution_count": null,
   "id": "d43eb8a0",
   "metadata": {},
   "outputs": [],
   "source": []
  }
 ],
 "metadata": {
  "kernelspec": {
   "display_name": "Python 3 (ipykernel)",
   "language": "python",
   "name": "python3"
  },
  "language_info": {
   "codemirror_mode": {
    "name": "ipython",
    "version": 3
   },
   "file_extension": ".py",
   "mimetype": "text/x-python",
   "name": "python",
   "nbconvert_exporter": "python",
   "pygments_lexer": "ipython3",
   "version": "3.8.17"
  }
 },
 "nbformat": 4,
 "nbformat_minor": 5
}
